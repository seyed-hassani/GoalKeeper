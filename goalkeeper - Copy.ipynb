{
  "cells": [
    {
      "cell_type": "markdown",
      "metadata": {},
      "source": [
        "<h1 dir=rtl align=center style=\"line-height:200%;font-family:vazir;color:#0099cc\">\n",
        "<font face=\"vazir\" color=\"#0099cc\">\n",
        "دروازه‌بان\n",
        "</font>\n",
        "</h1>\n",
        "\n",
        "<p dir=rtl style=\"direction: rtl; text-align: justify; line-height:200%; font-family:vazir; font-size:medium\">\n",
        "<font face=\"vazir\">\n",
        "در این تمرین می‌خواهیم با استفاده از فریم‌ورک کراس، یک شبکه‌ی عصبی عمیق آموزش دهیم که به دروازه‌بان تیم ملی فرانسه برای پرتاب موفق توپ به وسط زمین کمک کند. البته شبکه‌ی عصبی ما بزرگ است و داده‌های‌مان کم! در نتیجه شبکه در حالت عادی بیش‌برازش می‌شود. اما ما کوتاه نیامده و سعی می‌کنیم با استفاده از تکنیک‌های رگولاریزیشنی که آموختیم از بیش‌برازش مدل جلوگیری کرده و تا حد ممکن کمک بهتری به دروازه‌بان برسانیم.\n",
        "</font>\n",
        "</p>"
      ]
    },
    {
      "cell_type": "markdown",
      "metadata": {
        "id": "jeyv_V04ibsw"
      },
      "source": [
        "<h2 dir=rtl align=right style=\"line-height:200%;font-family:vazir;color:#0099cc\">\n",
        "<font face=\"vazir\" color=\"#0099cc\">\n",
        "شرح مسئله\n",
        "</font>\n",
        "</h2>\n",
        "\n",
        "<p dir=rtl style=\"direction: rtl; text-align: justify; line-height:200%; font-family:vazir; font-size:medium\">\n",
        "<font face=\"vazir\">\n",
        "مدل‌های یادگیری عمیق معمولاْ دارای تعداد زیادی پارامتر هستند و در نتیجه پتانسیل و توانایی بالایی جهت یادگیری دارند. چنین پتانسیلی جهت وقوع نیاز به تعداد زیادی داده‌ی آموزشی دارد و اگر حجم داده‌های در دسترس مدل کم باشد به‌احتمال زیاد مدل بر روی همان‌ها بیش‌برازش می‌شود. یعنی مدل بر روی داده‌های آموزشی بسیار خوب عمل می‌کند، اما قادر نیست چیزهایی که یاد گرفته است را به نمونه‌های جدید و تاکنون دیده‌نشده تعمیم دهد. در این تمرین به‌شکل عملی چنین موضوعی را مشاهده خواهیم کرد و چند تکنیک رگولاریزیشن را برای جلوگیری از بیش‌برازش مدل به کار خواهیم برد.\n",
        "<br>\n",
        "مسئله‌ی ما این است که دروازه‌بان تیم ملی فرانسه می‌خواهد توپ را به وسط زمین پرتاب کند تا یکی از بازیکنان خودی بتواند با سر به آن ضربه بزند. به‌عنوان مثال در شکل زیر یک زمین فوتبال را مشاهده می‌کنید که نحوه‌ی پرتاب توپ توسط دروازه‌بان و موقعیت بازیکنان را نشان می‌دهد. اطلاعات تمامی پرتاب‌ها در ۱۰ بازی گذشته‌ی تیم ملی فرانسه در اختیار شما قرار گرفته و قصد داریم مدلی آموزش دهیم که بتواند پیش‌بینی کند آیا توپ به بازیکن خودی می‌رسد یا خیر. در نهایت با استفاده از مدل می‌توانیم در تمرین‌های آینده پرتاب‌های دروازه‌بان را بهبود بخشیم.\n",
        "</p>\n",
        "</font>\n",
        "\n",
        "<center>\n",
        "<img src=\"https://quera.org/qbox/view/chXV9Oyhrm/field_kiank.png\">\n",
        "</center>"
      ]
    },
    {
      "cell_type": "markdown",
      "metadata": {},
      "source": [
        "<p dir=rtl style=\"direction: rtl; text-align: justify; line-height:200%; font-family:vazir; font-size:medium\">\n",
        "<font face=\"vazir\">\n",
        "پیش از هر چیز با استفاده از تابع <code>np.load</code> ویژگی‌ها و برچسب‌های داده‌های آموزشی و اعتبارسنجی را بخوانید.\n",
        "</p>\n",
        "</font>"
      ]
    },
    {
      "cell_type": "code",
      "execution_count": null,
      "metadata": {
        "id": "-Vj898TaxERx"
      },
      "outputs": [],
      "source": [
        "import numpy as np\n",
        "import matplotlib.pyplot as plt\n",
        "\n",
        "data_train_x = None # TODO: load data_X.npy\n",
        "data_train_y = None # TODO: load data_y.npy\n",
        "data_eval_x = None # TODO: load data_Xval.npy\n",
        "data_eval_y = None # TODO: load data_yval.npy\n",
        "\n",
        "print(data_train_x.shape, data_train_y.shape, data_eval_x.shape, data_eval_y.shape)"
      ]
    },
    {
      "cell_type": "markdown",
      "metadata": {},
      "source": [
        "<p dir=rtl style=\"direction: rtl; text-align: justify; line-height:200%; font-family:vazir; font-size:medium\">\n",
        "<font face=\"vazir\">\n",
        "از آن‌جا که مجموعه‌داده شامل دو ویژگی و تعداد کمی نمونه است می‌توانیم آن را در یک صفحه‌ی دوبعدی نمایش دهیم. در شکل زیر هر نقطه به موقعیتی در زمین فوتبال اشاره می‌کند که یک بازیکن فوتبال بعد از آن‌که دروازه‌بان تیم فرانسه از سمت چپ زمین به توپ ضربه زده، با سر خود به آن ضربه زده است. اگر رنگ نقطه آبی باشد یعنی توپ به بازیکن خودی رسیده و بازیکن تیم فرانسه توانسته با سر به توپ ضربه بزند و اگر رنگ آن قرمز باشد یعنی توپ به بازیکن تیم مقابل رسیده است. هدف ما این است که مدلی بسازیم که پیش‌بینی کند بازیکن کدام تیم به توپ ضربه می‌زند.\n",
        "</p>\n",
        "</font>"
      ]
    },
    {
      "cell_type": "code",
      "execution_count": null,
      "metadata": {
        "id": "qNLGCYdT3PaV"
      },
      "outputs": [],
      "source": [
        "colors = ['red' if label == 0 else 'blue' for label in data_train_y.ravel()]\n",
        "plt.scatter(data_train_x[:, 0], data_train_x[:, 1], c=colors)"
      ]
    },
    {
      "cell_type": "markdown",
      "metadata": {
        "id": "PpbIAe55ibsz"
      },
      "source": [
        "<h2 dir=rtl align=right style=\"line-height:200%;font-family:vazir;color:#0099cc\">\n",
        "<font face=\"vazir\" color=\"#0099cc\">\n",
        "تحلیل داده‌ها\n",
        "</font>\n",
        "</h2>\n",
        "\n",
        "<p dir=rtl style=\"direction: rtl; text-align: justify; line-height:200%; font-family:vazir; font-size:medium\">\n",
        "<font face=\"vazir\">\n",
        "طبق نمودار بالا می‌توان مشاهده کرد که با وجود این‌که نمونه‌ها دارای کمی نویز هستند اما به نظر می‌رسد یک خط قطری که ناحیه‌ی بالا سمت چپ (آبی) را از ناحیه‌ی پایین سمت راست (قرمز) جدا می‌کند می‌تواند پاسخ بسیار خوبی باشد.\n",
        "<br>\n",
        "ابتدا یک مدل بدون هیچ‌گونه رگولاریزیشنی بسازیم و بررسی کنیم که اگر مجموعه‌داده ساده و کوچک باشد اما مدل از ظرفیت یادگیری بالایی برخوردار باشد چه اتفاقی می‌افتد. سپس به‌سراغ استفاده از تکنیک‌های رگولاریزیشن برویم و تاثیر آن‌ها را بررسی کنیم.\n",
        "</font>\n",
        "</p>"
      ]
    },
    {
      "cell_type": "markdown",
      "metadata": {
        "id": "vtJPMWFqibsz"
      },
      "source": [
        "<h2 dir=rtl align=right style=\"line-height:200%;font-family:vazir;color:#0099cc\">\n",
        "<font face=\"vazir\" color=\"#0099cc\">\n",
        "مدل بدون رگولاریزیشن\n",
        "</font>\n",
        "</h2>\n",
        "\n",
        "<p dir=rtl style=\"direction: rtl; text-align: justify; line-height:200%; font-family:vazir; font-size:medium\">\n",
        "<font face=\"vazir\">\n",
        "در زیر ما یک شبکه‌ی عصبی شامل ۴ لایه می‌سازیم که هر لایه (به‌غیر از لایه‌ی آخر) متشکل از ۵۰۰۰ نورون است و از تابع فعال‌ساز <code>relu</code> استفاده می‌کند.\n",
        "لایه‌ی خروجی نیز تنها یک نورون دارد (مسئله دو کلاسه است) و از تابع فعال‌ساز <code>sigmoid</code> استفاده می‌کند. مشخص است که چنین مدلی به‌دلیل تعداد لایه‌ها و نورون‌های زیاد در مقایسه با داده‌هایی که در اختیار داریم بسیار بزرگ است و احتمال بیش‌برازش وجود دارد.\n",
        "</font>\n",
        "</p>"
      ]
    },
    {
      "cell_type": "code",
      "execution_count": null,
      "metadata": {},
      "outputs": [],
      "source": [
        "# !pip install keras --upgrade\n",
        "# uncomment the above line if you don't have keras 3 installed"
      ]
    },
    {
      "cell_type": "code",
      "execution_count": null,
      "metadata": {
        "id": "sCD3DV1L6CJ0"
      },
      "outputs": [],
      "source": [
        "import os\n",
        "os.environ[\"KERAS_BACKEND\"] = \"tensorflow\""
      ]
    },
    {
      "cell_type": "code",
      "execution_count": null,
      "metadata": {
        "id": "8OVHpNJdibs0"
      },
      "outputs": [],
      "source": [
        "import keras\n",
        "\n",
        "model = keras.Sequential([\n",
        "    keras.layers.Input(shape=(2,)),\n",
        "    keras.layers.Dense(5000, activation='relu'),\n",
        "    keras.layers.Dense(5000, activation='relu'),\n",
        "    keras.layers.Dense(5000, activation='relu'),\n",
        "    keras.layers.Dense(1, activation='sigmoid')])"
      ]
    },
    {
      "cell_type": "markdown",
      "metadata": {
        "id": "9Sslt1XAri8p"
      },
      "source": [
        "<p dir=rtl style=\"direction: rtl; text-align: justify; line-height:200%; font-family:vazir; font-size:medium\">\n",
        "<font face=\"vazir\">\n",
        "حال الگوریتم بهینه‌ساز، تابع زیان و معیار عملکرد را مشخص کرده و مدل را کامپایل می‌کنیم.\n",
        "</font>\n",
        "</p>"
      ]
    },
    {
      "cell_type": "code",
      "execution_count": null,
      "metadata": {
        "id": "CSQn0pST6Yip"
      },
      "outputs": [],
      "source": [
        "model.compile(optimizer=\"adam\",\n",
        "              loss='binary_crossentropy',\n",
        "              metrics=['accuracy'])"
      ]
    },
    {
      "cell_type": "markdown",
      "metadata": {
        "id": "mDX6P6yxrozy"
      },
      "source": [
        "<p dir=rtl style=\"direction: rtl; text-align: justify; line-height:200%; font-family:vazir; font-size:medium\">\n",
        "<font face=\"vazir\">\n",
        "این مدل را آموزش می‌دهیم تا نتیجه‌ی آن را بررسی کنیم.\n",
        "</font>\n",
        "</p>"
      ]
    },
    {
      "cell_type": "code",
      "execution_count": null,
      "metadata": {
        "id": "mHr2YOM16arR"
      },
      "outputs": [],
      "source": [
        "history = model.fit(data_train_x, data_train_y,\n",
        "                    epochs=500, batch_size=32,\n",
        "                    validation_data=(data_eval_x, data_eval_y))"
      ]
    },
    {
      "cell_type": "markdown",
      "metadata": {
        "id": "c5eIHbAQrvFi"
      },
      "source": [
        "<p dir=rtl style=\"direction: rtl; text-align: justify; line-height:200%; font-family:vazir; font-size:medium\">\n",
        "<font face=\"vazir\">\n",
        "جهت تحلیل و بررسی عملکرد مدل به رسم نمودار زیان و دقت آن روی داده‌های آموزشی و اعتبارسنجی می‌پردازیم.\n",
        "</font>\n",
        "</p>"
      ]
    },
    {
      "cell_type": "code",
      "execution_count": null,
      "metadata": {
        "id": "05rNj5hy85k5"
      },
      "outputs": [],
      "source": [
        "def plot_loss_acc(history):\n",
        "    train_loss = history.history['loss']\n",
        "    val_loss = history.history['val_loss']\n",
        "    train_acc = history.history['accuracy']\n",
        "    val_acc = history.history['val_accuracy']\n",
        "    \n",
        "    epochs = range(1, len(train_loss) + 1)\n",
        "    \n",
        "    fig, axs = plt.subplots(2, figsize=(10, 7))\n",
        "    fig.suptitle('Training and Validation Metrics')\n",
        "    \n",
        "    # Loss plot\n",
        "    axs[0].plot(epochs, train_loss, label='Training loss', c='red')\n",
        "    axs[0].plot(epochs, val_loss, label='Validation loss', c='blue')\n",
        "    axs[0].set_title('Loss')\n",
        "    axs[0].set_xlabel('Epochs')\n",
        "    axs[0].set_ylabel('Loss')\n",
        "    axs[0].legend()\n",
        "    axs[0].set_ylim([0, 1.5])\n",
        "    \n",
        "    # Accuracy plot\n",
        "    axs[1].plot(epochs, train_acc, label='Training accuracy', c='red')\n",
        "    axs[1].plot(epochs, val_acc, label='Validation accuracy', c='blue')\n",
        "    axs[1].set_title('Accuracy')\n",
        "    axs[1].set_xlabel('Epochs')\n",
        "    axs[1].set_ylabel('Accuracy')\n",
        "    axs[1].legend()\n",
        "    \n",
        "    plt.subplots_adjust(hspace=0.5)\n",
        "    plt.show()"
      ]
    },
    {
      "cell_type": "code",
      "execution_count": null,
      "metadata": {},
      "outputs": [],
      "source": [
        "plot_loss_acc(history)"
      ]
    },
    {
      "cell_type": "markdown",
      "metadata": {},
      "source": [
        "<p dir=rtl style=\"direction: rtl; text-align: justify; line-height:200%; font-family:vazir; font-size:medium\">\n",
        "<font face=\"vazir\">\n",
        "همان‌طور که در نمودار بالا مشاهده می‌کنید، دقت مدل روی داده‌های آموزشی به ۱۰۰٪ می‌رسد، در حالی‌که دقت آن روی داده‌های اعتبارسنجی با تفاوت زیادی کمتر است و فقط حدود ۹۲.۵٪ است. به بیان دیگر، زیان مدل روی داده‌های آموزشی به صورت مداوم کاهش پیدا می‌کند و نزدیک به صفر می‌شود، در حالی‌که زیان برای داده‌های اعتبارسنجی بسیار زیاد می‌شود. چنین موضوعی به‌وضوح بیانگر بیش‌برازش مدل است. برای درک بهتر بیش‌برازش مدل بیایید خط تصمیم مدل را رسم کنیم و ببینیم مدل به چه نحوی نمونه‌ها را دسته‌بندی می‌کند.\n",
        "</font>\n",
        "</p>"
      ]
    },
    {
      "cell_type": "code",
      "execution_count": null,
      "metadata": {
        "id": "OM04IgPCGWxg"
      },
      "outputs": [],
      "source": [
        "import numpy as np\n",
        "import matplotlib\n",
        "import matplotlib.pyplot as plt\n",
        "from sklearn.inspection import DecisionBoundaryDisplay\n",
        "\n",
        "def get_decision_boundaries(model, xmin, xmax, ymin, ymax, steps):\n",
        "  x_span = np.linspace(xmin, xmax, steps)\n",
        "  y_span = np.linspace(ymin, ymax, steps)\n",
        "  xx, yy = np.meshgrid(x_span, y_span)\n",
        "  points = (np.stack([xx.ravel(), yy.ravel()], axis=1).astype(np.float32))\n",
        "\n",
        "  z = (model.predict(np.c_[xx.ravel(), yy.ravel()])>0.5).reshape(xx.shape)\n",
        "\n",
        "  return xx, yy, z\n",
        "\n",
        "def plt_decision_boundaries(model, x_min, x_max, y_min, y_max, steps):\n",
        "  plt.figure(figsize=(6, 4))\n",
        "  xx, yy, z = get_decision_boundaries(model, x_min, x_max, y_min, y_max, steps)\n",
        "  plt.contourf(xx, yy, z, alpha=0.2, cmap=matplotlib.colors.ListedColormap([\"C1\", \"C0\"]));\n"
      ]
    },
    {
      "cell_type": "code",
      "execution_count": null,
      "metadata": {
        "id": "aGhtU48TGbfq"
      },
      "outputs": [],
      "source": [
        "plt_decision_boundaries(model, -0.7, 0.3, -0.7, 0.7, 50)\n",
        "colors = ['red' if label == 0 else 'blue' for label in data_train_y.ravel()]\n",
        "plt.scatter(data_train_x[:, 0], data_train_x[:, 1], c=colors, s=4)\n",
        "plt.show()"
      ]
    },
    {
      "cell_type": "markdown",
      "metadata": {},
      "source": [
        "\n",
        "<p dir=rtl style=\"direction: rtl; text-align: justify; line-height:200%; font-family:vazir; font-size:medium\">\n",
        "<font face=\"vazir\">\n",
        "همان‌طور که مشاهده می‌کند مدل تمام سعی خود را کرده تا نمونه‌های آموزشی را به‌شکل کاملاْ دقیقی دسته‌بندی کند. در واقع می‌توان به‌وضوح دید که مدل موقعیت تمام نمونه‌های آموزشی را در ذهن خود حفظ کرده است و چنین موضوع به معنی عمومیت کم مدل است.\n",
        "</font>\n",
        "</p>"
      ]
    },
    {
      "cell_type": "markdown",
      "metadata": {},
      "source": [
        "<h2 dir=rtl align=right style=\"line-height:200%;font-family:vazir;color:#0099cc\">\n",
        "<font face=\"vazir\" color=\"#0099cc\">\n",
        "تکنیک حذف تصادفی\n",
        "</font>\n",
        "</h2>\n",
        "\n",
        "\n",
        "<p dir=rtl style=\"direction: rtl; text-align: justify; line-height:200%; font-family:vazir; font-size:medium\">\n",
        "<font face=\"vazir\">\n",
        "یکی از روش‌هایی که جهت رگولاریز کردن وزن‌های مدل آموختیم، حذف تصادفی (Dropout) بود. در اینجا می‌خواهیم تاثیر استفاده از این تکنیک را آزمایش کنیم، پس بین هر دو لایه از شبکه، یک لایه‌ی <code>Dropout</code> با نرخ ۰.۶ قرار دهید.\n",
        "</font>\n",
        "</p>\n"
      ]
    },
    {
      "cell_type": "code",
      "execution_count": null,
      "metadata": {
        "id": "sp2yRiaPcUqH"
      },
      "outputs": [],
      "source": [
        "model_dropout = keras.Sequential([\n",
        "    keras.layers.Input(shape=(2,)),\n",
        "    keras.layers.Dense(5000, activation='relu'),\n",
        "    # TODO: add dropout layer with 0.6 dropout rate\n",
        "    keras.layers.Dense(5000, activation='relu'),\n",
        "    # TODO: add dropout layer with 0.6 dropout rate\n",
        "    keras.layers.Dense(5000, activation='relu'),\n",
        "    # TODO: add dropout layer with 0.6 dropout rate\n",
        "    keras.layers.Dense(1, activation='sigmoid')])"
      ]
    },
    {
      "cell_type": "markdown",
      "metadata": {
        "id": "hgRTCWEdr7Cq"
      },
      "source": [
        "<p dir=rtl style=\"direction: rtl; text-align: justify; line-height:200%; font-family:vazir; font-size:medium\">\n",
        "<font face=\"vazir\">\n",
        "اکنون تمامی مراحل قبل را تکرار می‌کنیم تا نتیجه‌ی مدل جدید و تاثیر تکنیک حذف تصادفی را بررسی کنیم.\n",
        "</font>\n",
        "</p>"
      ]
    },
    {
      "cell_type": "code",
      "execution_count": null,
      "metadata": {
        "id": "nHgpI2-rcdOh"
      },
      "outputs": [],
      "source": [
        "model_dropout.compile(optimizer=\"adam\",\n",
        "              loss='binary_crossentropy',\n",
        "              metrics=['accuracy'])"
      ]
    },
    {
      "cell_type": "code",
      "execution_count": null,
      "metadata": {
        "id": "6psebaNocei6"
      },
      "outputs": [],
      "source": [
        "history = model_dropout.fit(data_train_x, data_train_y,\n",
        "                            epochs=500, batch_size=32,\n",
        "                            validation_data=(data_eval_x, data_eval_y))"
      ]
    },
    {
      "cell_type": "code",
      "execution_count": null,
      "metadata": {
        "id": "XnG2u8FKcfyf"
      },
      "outputs": [],
      "source": [
        "train_loss = history.history['loss']\n",
        "val_loss = history.history['val_loss']\n",
        "train_acc = history.history['accuracy']\n",
        "val_acc = history.history['val_accuracy']"
      ]
    },
    {
      "cell_type": "code",
      "execution_count": null,
      "metadata": {
        "id": "3IDnlukKchii"
      },
      "outputs": [],
      "source": [
        "plot_loss_acc(history)"
      ]
    },
    {
      "cell_type": "code",
      "execution_count": null,
      "metadata": {
        "id": "jACErE7Kci_2"
      },
      "outputs": [],
      "source": [
        "plt_decision_boundaries(model_dropout, -0.7, 0.3, -0.7, 0.7, 50)\n",
        "colors = ['red' if label == 0 else 'blue' for label in data_train_y.ravel()]\n",
        "plt.scatter(data_train_x[:, 0], data_train_x[:, 1], c=colors, s=4)\n",
        "plt.show()"
      ]
    },
    {
      "cell_type": "markdown",
      "metadata": {},
      "source": [
        "<p dir=rtl style=\"direction: rtl; text-align: justify; line-height:200%; font-family:vazir; font-size:medium\">\n",
        "<font face=\"vazir\">\n",
        "طبق نتایج به‌دست‌آمده می‌توان به‌وضوح مشاهده کرد که با استفاده از تکنیک حذف تصادفی توانستیم به‌سادگی با چالش بیش‌برازش مقابله کنیم و مدل توانست یک دسته‌بندی منطقی و عمومی‌تر ارائه دهد. عملکرد مدل از نظر دقت نیز افزایش پیدا کرده است.\n",
        "</font>\n",
        "</p>"
      ]
    },
    {
      "cell_type": "markdown",
      "metadata": {},
      "source": [
        "<h2 dir=rtl align=right style=\"line-height:200%;font-family:vazir;color:#0099cc\">\n",
        "<font face=\"vazir\" color=\"#0099cc\">\n",
        "تکنیک رگولاریزیشن <i>L1</i> و <i>L2</i>\n",
        "</font>\n",
        "</h2>\n",
        "\n",
        "<p dir=rtl style=\"direction: rtl; text-align: justify; line-height:200%; font-family:vazir; font-size:medium\">\n",
        "<font face=\"vazir\">\n",
        "این‌بار می‌خواهیم به‌جای استفاده از حذف تصادفی، از رگولایزر <code>L1L2</code> برای وزن‌های کرنل هر لایه استفاده کنیم. برای مطالعه‌ی مستندات این نوع رگولاریزیشن می‌توانید به <a href=\"https://keras.io/api/layers/regularizers/#l1l2-class\" target=\"_blank\">این لینک</a> مراجعه کنید. ضریب <code>l1</code> را معادل با <code>3e-5</code> و ضریب <code>l2</code> را معادل با <code>3e-4</code> قرار دهید.\n",
        "</font>\n",
        "</p>"
      ]
    },
    {
      "cell_type": "code",
      "execution_count": null,
      "metadata": {
        "id": "UsSBUBIddC_m"
      },
      "outputs": [],
      "source": [
        "model_l1l2 = keras.Sequential([\n",
        "    keras.layers.Input(shape=(2,)),\n",
        "    keras.layers.Dense(5000, activation='relu', kernel_regularizer=None), # TODO: add L1L2 regularizer\n",
        "    keras.layers.Dense(5000, activation='relu', kernel_regularizer=None), # TODO: add L1L2 regularizer\n",
        "    keras.layers.Dense(5000, activation='relu', kernel_regularizer=None), # TODO: add L1L2 regularizer\n",
        "    keras.layers.Dense(1, activation='sigmoid', kernel_regularizer=None) # TODO: add L1L2 regularizer\n",
        "    ])"
      ]
    },
    {
      "cell_type": "markdown",
      "metadata": {
        "id": "Hywrp1E7sCz5"
      },
      "source": [
        "<p dir=rtl style=\"direction: rtl; text-align: justify; line-height:200%; font-family:vazir; font-size:medium\">\n",
        "<font face=\"vazir\">\n",
        "مجدد تمامی مراحل آموزش و ارزیابی مدل را تکرار می‌کنیم تا تاثیر این تکنیک را بررسی کنیم.\n",
        "</font>\n",
        "</p>"
      ]
    },
    {
      "cell_type": "code",
      "execution_count": null,
      "metadata": {
        "id": "wtzp4WK3dDpx"
      },
      "outputs": [],
      "source": [
        "model_l1l2.compile(optimizer=\"adam\",\n",
        "              loss='binary_crossentropy',\n",
        "              metrics=['accuracy'])"
      ]
    },
    {
      "cell_type": "code",
      "execution_count": null,
      "metadata": {},
      "outputs": [],
      "source": [
        "history = model_l1l2.fit(data_train_x, data_train_y,\n",
        "                         epochs=500, batch_size=32,\n",
        "                         validation_data=(data_eval_x, data_eval_y))"
      ]
    },
    {
      "cell_type": "code",
      "execution_count": null,
      "metadata": {
        "id": "tD6fV_c4dDkH"
      },
      "outputs": [],
      "source": [
        "plot_loss_acc(history)"
      ]
    },
    {
      "cell_type": "code",
      "execution_count": null,
      "metadata": {
        "id": "p6GzKJLtdDVy"
      },
      "outputs": [],
      "source": [
        "plt_decision_boundaries(model_l1l2, -0.7, 0.3, -0.7, 0.7, 50)\n",
        "colors = ['red' if label == 0 else 'blue' for label in data_train_y.ravel()]\n",
        "plt.scatter(data_train_x[:, 0], data_train_x[:, 1], c=colors, s=4)\n",
        "plt.show()"
      ]
    },
    {
      "cell_type": "markdown",
      "metadata": {},
      "source": [
        "<p dir=rtl style=\"direction: rtl; text-align: justify; line-height:200%; font-family:vazir; font-size:medium\">\n",
        "<font face=\"vazir\">\n",
        "مشاهده می‌کنید که با استفاده از تکنیک رگولاریزیشن <code>L1L2</code> نیز توانستیم از بیش‌برازش مدل جلوگیری کرده و به مدلی با عمومیت بهتر دست یابیم. در اینجا نیز دقت مدل نسبت به حالت اولیه افزایش پیدا کرده است.\n",
        "</font>\n",
        "</p>"
      ]
    },
    {
      "cell_type": "markdown",
      "metadata": {
        "id": "mu4i0bXUnxuY"
      },
      "source": [
        "<h2 align=right style=\"line-height:200%;font-family:vazir;color:#0099cc\">\n",
        "<font face=\"vazir\" color=\"#0099cc\">\n",
        "<b>سلول جواب‌ساز</b>\n",
        "</font>\n",
        "</h2>\n",
        "\n",
        "<p dir=rtl style=\"direction: rtl; text-align: justify; line-height:200%; font-family:vazir; font-size:medium\">\n",
        "<font face=\"vazir\" size=3>\n",
        "    برای ساخته‌شدن فایل <code>result.zip</code> سلول‌های زیر را اجرا کنید. توجه داشته باشید که پیش از اجرای سلول زیر تغییرات اعمال شده در نت‌بوک را ذخیره کرده باشید (<code>ctrl+s</code>) تا در صورت نیاز به پشتیبانی امکان بررسی کد شما وجود داشته باشد. همچنین اگر از گوگل کولب استفاده می‌کنید، در صورت نیاز به پشتیبانی حتماً آخرین نسخه از نت‌بوک را به‌صورت دستی دانلود کرده و داخل فایل ارسالی قرار دهید یا لینک کولب را با ما به‌اشتراک بگذارید.\n",
        "</font>\n",
        "</p>"
      ]
    },
    {
      "cell_type": "code",
      "execution_count": null,
      "metadata": {},
      "outputs": [],
      "source": [
        "import numpy as np\n",
        "import json\n",
        "\n",
        "def get_kernel_regularizer_info(layer):\n",
        "  try:\n",
        "      con = layer.get_config()['kernel_regularizer']\n",
        "      con['config']['l1']=round(con['config']['l1'], 6)\n",
        "      con['config']['l2']=round(con['config']['l2'], 6)\n",
        "      return str(con)\n",
        "  except:\n",
        "      return \"\"\n",
        "\n",
        "model_l1l2_info=[]\n",
        "for layer in model_l1l2.layers:\n",
        "  if layer.__class__.__name__==\"Dense\":\n",
        "    model_l1l2_info.append({\n",
        "        \"name\": layer.__class__.__name__,\n",
        "        \"units\":layer.units,\n",
        "        \"activation\":layer.get_config()[\"activation\"],\n",
        "        \"kernel_regularizer\": get_kernel_regularizer_info(layer)\n",
        "    })\n",
        "  elif layer.__class__.__name__==\"Dropout\":\n",
        "    model_l1l2_info.append({\n",
        "        \"name\": layer.__class__.__name__,\n",
        "        \"trainable\":layer.get_config()[\"trainable\"],\n",
        "        \"rate\": layer.get_config()[\"rate\"],\n",
        "    })\n",
        "  else:\n",
        "    model_l1l2_info.append({\"name\": layer.__class__.__name__})\n",
        "\n",
        "with open(\"model_l1l2_info.json\", \"w\") as f:\n",
        "    json.dump(model_l1l2_info, f)\n",
        "\n",
        "model_dropout_info=[]\n",
        "for layer in model_dropout.layers:\n",
        "  if layer.__class__.__name__==\"Dense\":\n",
        "    model_dropout_info.append({\n",
        "        \"name\": layer.__class__.__name__,\n",
        "        \"units\":layer.units,\n",
        "        \"activation\":layer.get_config()[\"activation\"],\n",
        "        \"kernel_regularizer\": get_kernel_regularizer_info(layer)\n",
        "    })\n",
        "  elif layer.__class__.__name__==\"Dropout\":\n",
        "    model_dropout_info.append({\n",
        "        \"name\": layer.__class__.__name__,\n",
        "        \"trainable\":layer.get_config()[\"trainable\"],\n",
        "        \"rate\": layer.get_config()[\"rate\"],\n",
        "    })\n",
        "  else:\n",
        "    model_dropout_info.append({\"name\": layer.__class__.__name__})\n",
        "\n",
        "with open(\"model_dropout_info.json\", \"w\") as f:\n",
        "    json.dump(model_dropout_info, f)"
      ]
    },
    {
      "cell_type": "code",
      "execution_count": null,
      "metadata": {
        "id": "MY2hY0BPnyEI"
      },
      "outputs": [],
      "source": [
        "import zipfile\n",
        "import joblib\n",
        "\n",
        "if not os.path.exists(os.path.join(os.getcwd(), 'goalkeeper.ipynb')):\n",
        "    %notebook -e goalkeeper.ipynb\n",
        "\n",
        "def compress(file_names):\n",
        "    print(\"File Paths:\")\n",
        "    print(file_names)\n",
        "    compression = zipfile.ZIP_DEFLATED\n",
        "    with zipfile.ZipFile(\"result.zip\", mode=\"w\") as zf:\n",
        "        for file_name in file_names:\n",
        "            zf.write('./' + file_name, file_name, compress_type=compression)\n",
        "\n",
        "file_names = ['model_l1l2_info.json', 'model_dropout_info.json', 'goalkeeper.ipynb']\n",
        "compress(file_names)"
      ]
    }
  ],
  "metadata": {
    "accelerator": "GPU",
    "colab": {
      "gpuType": "T4",
      "provenance": []
    },
    "coursera": {
      "course_slug": "deep-neural-network",
      "graded_item_id": "SXQaI",
      "launcher_item_id": "UAwhh"
    },
    "kernelspec": {
      "display_name": "Python 3",
      "name": "python3"
    },
    "language_info": {
      "codemirror_mode": {
        "name": "ipython",
        "version": 3
      },
      "file_extension": ".py",
      "mimetype": "text/x-python",
      "name": "python",
      "nbconvert_exporter": "python",
      "pygments_lexer": "ipython3",
      "version": "3.8.5"
    },
    "varInspector": {
      "cols": {
        "lenName": 16,
        "lenType": 16,
        "lenVar": 40
      },
      "kernels_config": {
        "python": {
          "delete_cmd_postfix": "",
          "delete_cmd_prefix": "del ",
          "library": "var_list.py",
          "varRefreshCmd": "print(var_dic_list())"
        },
        "r": {
          "delete_cmd_postfix": ") ",
          "delete_cmd_prefix": "rm(",
          "library": "var_list.r",
          "varRefreshCmd": "cat(var_dic_list()) "
        }
      },
      "types_to_exclude": [
        "module",
        "function",
        "builtin_function_or_method",
        "instance",
        "_Feature"
      ],
      "window_display": false
    }
  },
  "nbformat": 4,
  "nbformat_minor": 0
}
